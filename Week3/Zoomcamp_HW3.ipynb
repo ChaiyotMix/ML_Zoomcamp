{
  "nbformat": 4,
  "nbformat_minor": 0,
  "metadata": {
    "colab": {
      "provenance": []
    },
    "kernelspec": {
      "name": "python3",
      "display_name": "Python 3"
    },
    "language_info": {
      "name": "python"
    }
  },
  "cells": [
    {
      "cell_type": "code",
      "execution_count": 286,
      "metadata": {
        "id": "LhlJ0Xm8dsRv"
      },
      "outputs": [],
      "source": [
        "import pandas as pd\n",
        "import numpy as np\n",
        "import seaborn as sns\n",
        "from sklearn.metrics import mutual_info_score\n",
        "from sklearn.model_selection import train_test_split\n",
        "from sklearn.feature_extraction import DictVectorizer\n",
        "from sklearn.linear_model import LogisticRegression\n",
        "from sklearn.linear_model import Ridge\n",
        "from sklearn.metrics import mean_squared_error"
      ]
    },
    {
      "cell_type": "markdown",
      "source": [
        "# Dataset"
      ],
      "metadata": {
        "id": "NbmRshLbuEFQ"
      }
    },
    {
      "cell_type": "code",
      "source": [
        "!wget https://raw.githubusercontent.com/alexeygrigorev/datasets/master/housing.csv"
      ],
      "metadata": {
        "colab": {
          "base_uri": "https://localhost:8080/"
        },
        "id": "z-4Uvblyds3t",
        "outputId": "b4954c85-df2e-4558-9769-a1c8aa62c3ab"
      },
      "execution_count": 287,
      "outputs": [
        {
          "output_type": "stream",
          "name": "stdout",
          "text": [
            "--2022-09-26 18:16:28--  https://raw.githubusercontent.com/alexeygrigorev/datasets/master/housing.csv\n",
            "Resolving raw.githubusercontent.com (raw.githubusercontent.com)... 185.199.108.133, 185.199.109.133, 185.199.110.133, ...\n",
            "Connecting to raw.githubusercontent.com (raw.githubusercontent.com)|185.199.108.133|:443... connected.\n",
            "HTTP request sent, awaiting response... 200 OK\n",
            "Length: 1423529 (1.4M) [text/plain]\n",
            "Saving to: ‘housing.csv.8’\n",
            "\n",
            "\rhousing.csv.8         0%[                    ]       0  --.-KB/s               \rhousing.csv.8       100%[===================>]   1.36M  --.-KB/s    in 0.04s   \n",
            "\n",
            "2022-09-26 18:16:28 (34.7 MB/s) - ‘housing.csv.8’ saved [1423529/1423529]\n",
            "\n"
          ]
        }
      ]
    },
    {
      "cell_type": "code",
      "source": [
        "df = pd.read_csv('housing.csv')\n",
        "len(df)"
      ],
      "metadata": {
        "colab": {
          "base_uri": "https://localhost:8080/"
        },
        "id": "QQ38lMBIeOZq",
        "outputId": "cf65d75a-03a0-4418-eddd-e091a8d47c1d"
      },
      "execution_count": 288,
      "outputs": [
        {
          "output_type": "execute_result",
          "data": {
            "text/plain": [
              "20640"
            ]
          },
          "metadata": {},
          "execution_count": 288
        }
      ]
    },
    {
      "cell_type": "code",
      "source": [
        "df.head()"
      ],
      "metadata": {
        "colab": {
          "base_uri": "https://localhost:8080/",
          "height": 206
        },
        "id": "LE9eVq-ReW9k",
        "outputId": "dc500e26-4a2b-408d-cb06-21b812c3b6b9"
      },
      "execution_count": 289,
      "outputs": [
        {
          "output_type": "execute_result",
          "data": {
            "text/plain": [
              "   longitude  latitude  housing_median_age  total_rooms  total_bedrooms  \\\n",
              "0    -122.23     37.88                41.0        880.0           129.0   \n",
              "1    -122.22     37.86                21.0       7099.0          1106.0   \n",
              "2    -122.24     37.85                52.0       1467.0           190.0   \n",
              "3    -122.25     37.85                52.0       1274.0           235.0   \n",
              "4    -122.25     37.85                52.0       1627.0           280.0   \n",
              "\n",
              "   population  households  median_income  median_house_value ocean_proximity  \n",
              "0       322.0       126.0         8.3252            452600.0        NEAR BAY  \n",
              "1      2401.0      1138.0         8.3014            358500.0        NEAR BAY  \n",
              "2       496.0       177.0         7.2574            352100.0        NEAR BAY  \n",
              "3       558.0       219.0         5.6431            341300.0        NEAR BAY  \n",
              "4       565.0       259.0         3.8462            342200.0        NEAR BAY  "
            ],
            "text/html": [
              "\n",
              "  <div id=\"df-a1f713dd-dff9-4d97-89de-19ad7bb8738e\">\n",
              "    <div class=\"colab-df-container\">\n",
              "      <div>\n",
              "<style scoped>\n",
              "    .dataframe tbody tr th:only-of-type {\n",
              "        vertical-align: middle;\n",
              "    }\n",
              "\n",
              "    .dataframe tbody tr th {\n",
              "        vertical-align: top;\n",
              "    }\n",
              "\n",
              "    .dataframe thead th {\n",
              "        text-align: right;\n",
              "    }\n",
              "</style>\n",
              "<table border=\"1\" class=\"dataframe\">\n",
              "  <thead>\n",
              "    <tr style=\"text-align: right;\">\n",
              "      <th></th>\n",
              "      <th>longitude</th>\n",
              "      <th>latitude</th>\n",
              "      <th>housing_median_age</th>\n",
              "      <th>total_rooms</th>\n",
              "      <th>total_bedrooms</th>\n",
              "      <th>population</th>\n",
              "      <th>households</th>\n",
              "      <th>median_income</th>\n",
              "      <th>median_house_value</th>\n",
              "      <th>ocean_proximity</th>\n",
              "    </tr>\n",
              "  </thead>\n",
              "  <tbody>\n",
              "    <tr>\n",
              "      <th>0</th>\n",
              "      <td>-122.23</td>\n",
              "      <td>37.88</td>\n",
              "      <td>41.0</td>\n",
              "      <td>880.0</td>\n",
              "      <td>129.0</td>\n",
              "      <td>322.0</td>\n",
              "      <td>126.0</td>\n",
              "      <td>8.3252</td>\n",
              "      <td>452600.0</td>\n",
              "      <td>NEAR BAY</td>\n",
              "    </tr>\n",
              "    <tr>\n",
              "      <th>1</th>\n",
              "      <td>-122.22</td>\n",
              "      <td>37.86</td>\n",
              "      <td>21.0</td>\n",
              "      <td>7099.0</td>\n",
              "      <td>1106.0</td>\n",
              "      <td>2401.0</td>\n",
              "      <td>1138.0</td>\n",
              "      <td>8.3014</td>\n",
              "      <td>358500.0</td>\n",
              "      <td>NEAR BAY</td>\n",
              "    </tr>\n",
              "    <tr>\n",
              "      <th>2</th>\n",
              "      <td>-122.24</td>\n",
              "      <td>37.85</td>\n",
              "      <td>52.0</td>\n",
              "      <td>1467.0</td>\n",
              "      <td>190.0</td>\n",
              "      <td>496.0</td>\n",
              "      <td>177.0</td>\n",
              "      <td>7.2574</td>\n",
              "      <td>352100.0</td>\n",
              "      <td>NEAR BAY</td>\n",
              "    </tr>\n",
              "    <tr>\n",
              "      <th>3</th>\n",
              "      <td>-122.25</td>\n",
              "      <td>37.85</td>\n",
              "      <td>52.0</td>\n",
              "      <td>1274.0</td>\n",
              "      <td>235.0</td>\n",
              "      <td>558.0</td>\n",
              "      <td>219.0</td>\n",
              "      <td>5.6431</td>\n",
              "      <td>341300.0</td>\n",
              "      <td>NEAR BAY</td>\n",
              "    </tr>\n",
              "    <tr>\n",
              "      <th>4</th>\n",
              "      <td>-122.25</td>\n",
              "      <td>37.85</td>\n",
              "      <td>52.0</td>\n",
              "      <td>1627.0</td>\n",
              "      <td>280.0</td>\n",
              "      <td>565.0</td>\n",
              "      <td>259.0</td>\n",
              "      <td>3.8462</td>\n",
              "      <td>342200.0</td>\n",
              "      <td>NEAR BAY</td>\n",
              "    </tr>\n",
              "  </tbody>\n",
              "</table>\n",
              "</div>\n",
              "      <button class=\"colab-df-convert\" onclick=\"convertToInteractive('df-a1f713dd-dff9-4d97-89de-19ad7bb8738e')\"\n",
              "              title=\"Convert this dataframe to an interactive table.\"\n",
              "              style=\"display:none;\">\n",
              "        \n",
              "  <svg xmlns=\"http://www.w3.org/2000/svg\" height=\"24px\"viewBox=\"0 0 24 24\"\n",
              "       width=\"24px\">\n",
              "    <path d=\"M0 0h24v24H0V0z\" fill=\"none\"/>\n",
              "    <path d=\"M18.56 5.44l.94 2.06.94-2.06 2.06-.94-2.06-.94-.94-2.06-.94 2.06-2.06.94zm-11 1L8.5 8.5l.94-2.06 2.06-.94-2.06-.94L8.5 2.5l-.94 2.06-2.06.94zm10 10l.94 2.06.94-2.06 2.06-.94-2.06-.94-.94-2.06-.94 2.06-2.06.94z\"/><path d=\"M17.41 7.96l-1.37-1.37c-.4-.4-.92-.59-1.43-.59-.52 0-1.04.2-1.43.59L10.3 9.45l-7.72 7.72c-.78.78-.78 2.05 0 2.83L4 21.41c.39.39.9.59 1.41.59.51 0 1.02-.2 1.41-.59l7.78-7.78 2.81-2.81c.8-.78.8-2.07 0-2.86zM5.41 20L4 18.59l7.72-7.72 1.47 1.35L5.41 20z\"/>\n",
              "  </svg>\n",
              "      </button>\n",
              "      \n",
              "  <style>\n",
              "    .colab-df-container {\n",
              "      display:flex;\n",
              "      flex-wrap:wrap;\n",
              "      gap: 12px;\n",
              "    }\n",
              "\n",
              "    .colab-df-convert {\n",
              "      background-color: #E8F0FE;\n",
              "      border: none;\n",
              "      border-radius: 50%;\n",
              "      cursor: pointer;\n",
              "      display: none;\n",
              "      fill: #1967D2;\n",
              "      height: 32px;\n",
              "      padding: 0 0 0 0;\n",
              "      width: 32px;\n",
              "    }\n",
              "\n",
              "    .colab-df-convert:hover {\n",
              "      background-color: #E2EBFA;\n",
              "      box-shadow: 0px 1px 2px rgba(60, 64, 67, 0.3), 0px 1px 3px 1px rgba(60, 64, 67, 0.15);\n",
              "      fill: #174EA6;\n",
              "    }\n",
              "\n",
              "    [theme=dark] .colab-df-convert {\n",
              "      background-color: #3B4455;\n",
              "      fill: #D2E3FC;\n",
              "    }\n",
              "\n",
              "    [theme=dark] .colab-df-convert:hover {\n",
              "      background-color: #434B5C;\n",
              "      box-shadow: 0px 1px 3px 1px rgba(0, 0, 0, 0.15);\n",
              "      filter: drop-shadow(0px 1px 2px rgba(0, 0, 0, 0.3));\n",
              "      fill: #FFFFFF;\n",
              "    }\n",
              "  </style>\n",
              "\n",
              "      <script>\n",
              "        const buttonEl =\n",
              "          document.querySelector('#df-a1f713dd-dff9-4d97-89de-19ad7bb8738e button.colab-df-convert');\n",
              "        buttonEl.style.display =\n",
              "          google.colab.kernel.accessAllowed ? 'block' : 'none';\n",
              "\n",
              "        async function convertToInteractive(key) {\n",
              "          const element = document.querySelector('#df-a1f713dd-dff9-4d97-89de-19ad7bb8738e');\n",
              "          const dataTable =\n",
              "            await google.colab.kernel.invokeFunction('convertToInteractive',\n",
              "                                                     [key], {});\n",
              "          if (!dataTable) return;\n",
              "\n",
              "          const docLinkHtml = 'Like what you see? Visit the ' +\n",
              "            '<a target=\"_blank\" href=https://colab.research.google.com/notebooks/data_table.ipynb>data table notebook</a>'\n",
              "            + ' to learn more about interactive tables.';\n",
              "          element.innerHTML = '';\n",
              "          dataTable['output_type'] = 'display_data';\n",
              "          await google.colab.output.renderOutput(dataTable, element);\n",
              "          const docLink = document.createElement('div');\n",
              "          docLink.innerHTML = docLinkHtml;\n",
              "          element.appendChild(docLink);\n",
              "        }\n",
              "      </script>\n",
              "    </div>\n",
              "  </div>\n",
              "  "
            ]
          },
          "metadata": {},
          "execution_count": 289
        }
      ]
    },
    {
      "cell_type": "code",
      "source": [
        "df_ref = df.copy()"
      ],
      "metadata": {
        "id": "KGOT5p2IAWGO"
      },
      "execution_count": 290,
      "outputs": []
    },
    {
      "cell_type": "markdown",
      "source": [
        "# Features"
      ],
      "metadata": {
        "id": "rNZx7DQHuJfE"
      }
    },
    {
      "cell_type": "code",
      "source": [
        "df = df[['latitude',\n",
        "          'longitude',\n",
        "          'housing_median_age',\n",
        "          'total_rooms',\n",
        "          'total_bedrooms',\n",
        "          'population',\n",
        "          'households',\n",
        "          'median_income',\n",
        "          'median_house_value',\n",
        "          'ocean_proximity',]]"
      ],
      "metadata": {
        "id": "EQgxAoRbefEt"
      },
      "execution_count": 291,
      "outputs": []
    },
    {
      "cell_type": "code",
      "source": [
        "df.isnull().sum()"
      ],
      "metadata": {
        "colab": {
          "base_uri": "https://localhost:8080/"
        },
        "id": "f-8VX3maez-H",
        "outputId": "527eed5e-8590-4321-cc8e-ac2474fc347a"
      },
      "execution_count": 292,
      "outputs": [
        {
          "output_type": "execute_result",
          "data": {
            "text/plain": [
              "latitude                0\n",
              "longitude               0\n",
              "housing_median_age      0\n",
              "total_rooms             0\n",
              "total_bedrooms        207\n",
              "population              0\n",
              "households              0\n",
              "median_income           0\n",
              "median_house_value      0\n",
              "ocean_proximity         0\n",
              "dtype: int64"
            ]
          },
          "metadata": {},
          "execution_count": 292
        }
      ]
    },
    {
      "cell_type": "code",
      "source": [
        "df = df.fillna(0)"
      ],
      "metadata": {
        "id": "vIwUEQPbiOH9"
      },
      "execution_count": 293,
      "outputs": []
    },
    {
      "cell_type": "code",
      "source": [
        "df.isnull().sum()"
      ],
      "metadata": {
        "colab": {
          "base_uri": "https://localhost:8080/"
        },
        "id": "dRU_IYYViPy1",
        "outputId": "72439554-1e7f-4b0d-cc93-4cfae0f74908"
      },
      "execution_count": 294,
      "outputs": [
        {
          "output_type": "execute_result",
          "data": {
            "text/plain": [
              "latitude              0\n",
              "longitude             0\n",
              "housing_median_age    0\n",
              "total_rooms           0\n",
              "total_bedrooms        0\n",
              "population            0\n",
              "households            0\n",
              "median_income         0\n",
              "median_house_value    0\n",
              "ocean_proximity       0\n",
              "dtype: int64"
            ]
          },
          "metadata": {},
          "execution_count": 294
        }
      ]
    },
    {
      "cell_type": "code",
      "source": [
        "df['rooms_per_household'] = df['total_rooms']/df['households']\n",
        "df['bedrooms_per_room'] = df['total_bedrooms']/df['total_rooms']\n",
        "df['population_per_household'] = df['population']/df['households']"
      ],
      "metadata": {
        "id": "26OJiR9lvGRb"
      },
      "execution_count": 295,
      "outputs": []
    },
    {
      "cell_type": "code",
      "source": [
        "df.head().T"
      ],
      "metadata": {
        "colab": {
          "base_uri": "https://localhost:8080/",
          "height": 457
        },
        "id": "uOBcP6_KwCPp",
        "outputId": "805e9a63-0ce4-4e88-cbc4-7245628f80f9"
      },
      "execution_count": 296,
      "outputs": [
        {
          "output_type": "execute_result",
          "data": {
            "text/plain": [
              "                                 0         1         2         3         4\n",
              "latitude                     37.88     37.86     37.85     37.85     37.85\n",
              "longitude                  -122.23   -122.22   -122.24   -122.25   -122.25\n",
              "housing_median_age            41.0      21.0      52.0      52.0      52.0\n",
              "total_rooms                  880.0    7099.0    1467.0    1274.0    1627.0\n",
              "total_bedrooms               129.0    1106.0     190.0     235.0     280.0\n",
              "population                   322.0    2401.0     496.0     558.0     565.0\n",
              "households                   126.0    1138.0     177.0     219.0     259.0\n",
              "median_income               8.3252    8.3014    7.2574    5.6431    3.8462\n",
              "median_house_value        452600.0  358500.0  352100.0  341300.0  342200.0\n",
              "ocean_proximity           NEAR BAY  NEAR BAY  NEAR BAY  NEAR BAY  NEAR BAY\n",
              "rooms_per_household       6.984127  6.238137  8.288136  5.817352  6.281853\n",
              "bedrooms_per_room         0.146591  0.155797  0.129516  0.184458  0.172096\n",
              "population_per_household  2.555556  2.109842   2.80226  2.547945  2.181467"
            ],
            "text/html": [
              "\n",
              "  <div id=\"df-f9270559-94e9-4afd-9b12-bbc92d6dcf22\">\n",
              "    <div class=\"colab-df-container\">\n",
              "      <div>\n",
              "<style scoped>\n",
              "    .dataframe tbody tr th:only-of-type {\n",
              "        vertical-align: middle;\n",
              "    }\n",
              "\n",
              "    .dataframe tbody tr th {\n",
              "        vertical-align: top;\n",
              "    }\n",
              "\n",
              "    .dataframe thead th {\n",
              "        text-align: right;\n",
              "    }\n",
              "</style>\n",
              "<table border=\"1\" class=\"dataframe\">\n",
              "  <thead>\n",
              "    <tr style=\"text-align: right;\">\n",
              "      <th></th>\n",
              "      <th>0</th>\n",
              "      <th>1</th>\n",
              "      <th>2</th>\n",
              "      <th>3</th>\n",
              "      <th>4</th>\n",
              "    </tr>\n",
              "  </thead>\n",
              "  <tbody>\n",
              "    <tr>\n",
              "      <th>latitude</th>\n",
              "      <td>37.88</td>\n",
              "      <td>37.86</td>\n",
              "      <td>37.85</td>\n",
              "      <td>37.85</td>\n",
              "      <td>37.85</td>\n",
              "    </tr>\n",
              "    <tr>\n",
              "      <th>longitude</th>\n",
              "      <td>-122.23</td>\n",
              "      <td>-122.22</td>\n",
              "      <td>-122.24</td>\n",
              "      <td>-122.25</td>\n",
              "      <td>-122.25</td>\n",
              "    </tr>\n",
              "    <tr>\n",
              "      <th>housing_median_age</th>\n",
              "      <td>41.0</td>\n",
              "      <td>21.0</td>\n",
              "      <td>52.0</td>\n",
              "      <td>52.0</td>\n",
              "      <td>52.0</td>\n",
              "    </tr>\n",
              "    <tr>\n",
              "      <th>total_rooms</th>\n",
              "      <td>880.0</td>\n",
              "      <td>7099.0</td>\n",
              "      <td>1467.0</td>\n",
              "      <td>1274.0</td>\n",
              "      <td>1627.0</td>\n",
              "    </tr>\n",
              "    <tr>\n",
              "      <th>total_bedrooms</th>\n",
              "      <td>129.0</td>\n",
              "      <td>1106.0</td>\n",
              "      <td>190.0</td>\n",
              "      <td>235.0</td>\n",
              "      <td>280.0</td>\n",
              "    </tr>\n",
              "    <tr>\n",
              "      <th>population</th>\n",
              "      <td>322.0</td>\n",
              "      <td>2401.0</td>\n",
              "      <td>496.0</td>\n",
              "      <td>558.0</td>\n",
              "      <td>565.0</td>\n",
              "    </tr>\n",
              "    <tr>\n",
              "      <th>households</th>\n",
              "      <td>126.0</td>\n",
              "      <td>1138.0</td>\n",
              "      <td>177.0</td>\n",
              "      <td>219.0</td>\n",
              "      <td>259.0</td>\n",
              "    </tr>\n",
              "    <tr>\n",
              "      <th>median_income</th>\n",
              "      <td>8.3252</td>\n",
              "      <td>8.3014</td>\n",
              "      <td>7.2574</td>\n",
              "      <td>5.6431</td>\n",
              "      <td>3.8462</td>\n",
              "    </tr>\n",
              "    <tr>\n",
              "      <th>median_house_value</th>\n",
              "      <td>452600.0</td>\n",
              "      <td>358500.0</td>\n",
              "      <td>352100.0</td>\n",
              "      <td>341300.0</td>\n",
              "      <td>342200.0</td>\n",
              "    </tr>\n",
              "    <tr>\n",
              "      <th>ocean_proximity</th>\n",
              "      <td>NEAR BAY</td>\n",
              "      <td>NEAR BAY</td>\n",
              "      <td>NEAR BAY</td>\n",
              "      <td>NEAR BAY</td>\n",
              "      <td>NEAR BAY</td>\n",
              "    </tr>\n",
              "    <tr>\n",
              "      <th>rooms_per_household</th>\n",
              "      <td>6.984127</td>\n",
              "      <td>6.238137</td>\n",
              "      <td>8.288136</td>\n",
              "      <td>5.817352</td>\n",
              "      <td>6.281853</td>\n",
              "    </tr>\n",
              "    <tr>\n",
              "      <th>bedrooms_per_room</th>\n",
              "      <td>0.146591</td>\n",
              "      <td>0.155797</td>\n",
              "      <td>0.129516</td>\n",
              "      <td>0.184458</td>\n",
              "      <td>0.172096</td>\n",
              "    </tr>\n",
              "    <tr>\n",
              "      <th>population_per_household</th>\n",
              "      <td>2.555556</td>\n",
              "      <td>2.109842</td>\n",
              "      <td>2.80226</td>\n",
              "      <td>2.547945</td>\n",
              "      <td>2.181467</td>\n",
              "    </tr>\n",
              "  </tbody>\n",
              "</table>\n",
              "</div>\n",
              "      <button class=\"colab-df-convert\" onclick=\"convertToInteractive('df-f9270559-94e9-4afd-9b12-bbc92d6dcf22')\"\n",
              "              title=\"Convert this dataframe to an interactive table.\"\n",
              "              style=\"display:none;\">\n",
              "        \n",
              "  <svg xmlns=\"http://www.w3.org/2000/svg\" height=\"24px\"viewBox=\"0 0 24 24\"\n",
              "       width=\"24px\">\n",
              "    <path d=\"M0 0h24v24H0V0z\" fill=\"none\"/>\n",
              "    <path d=\"M18.56 5.44l.94 2.06.94-2.06 2.06-.94-2.06-.94-.94-2.06-.94 2.06-2.06.94zm-11 1L8.5 8.5l.94-2.06 2.06-.94-2.06-.94L8.5 2.5l-.94 2.06-2.06.94zm10 10l.94 2.06.94-2.06 2.06-.94-2.06-.94-.94-2.06-.94 2.06-2.06.94z\"/><path d=\"M17.41 7.96l-1.37-1.37c-.4-.4-.92-.59-1.43-.59-.52 0-1.04.2-1.43.59L10.3 9.45l-7.72 7.72c-.78.78-.78 2.05 0 2.83L4 21.41c.39.39.9.59 1.41.59.51 0 1.02-.2 1.41-.59l7.78-7.78 2.81-2.81c.8-.78.8-2.07 0-2.86zM5.41 20L4 18.59l7.72-7.72 1.47 1.35L5.41 20z\"/>\n",
              "  </svg>\n",
              "      </button>\n",
              "      \n",
              "  <style>\n",
              "    .colab-df-container {\n",
              "      display:flex;\n",
              "      flex-wrap:wrap;\n",
              "      gap: 12px;\n",
              "    }\n",
              "\n",
              "    .colab-df-convert {\n",
              "      background-color: #E8F0FE;\n",
              "      border: none;\n",
              "      border-radius: 50%;\n",
              "      cursor: pointer;\n",
              "      display: none;\n",
              "      fill: #1967D2;\n",
              "      height: 32px;\n",
              "      padding: 0 0 0 0;\n",
              "      width: 32px;\n",
              "    }\n",
              "\n",
              "    .colab-df-convert:hover {\n",
              "      background-color: #E2EBFA;\n",
              "      box-shadow: 0px 1px 2px rgba(60, 64, 67, 0.3), 0px 1px 3px 1px rgba(60, 64, 67, 0.15);\n",
              "      fill: #174EA6;\n",
              "    }\n",
              "\n",
              "    [theme=dark] .colab-df-convert {\n",
              "      background-color: #3B4455;\n",
              "      fill: #D2E3FC;\n",
              "    }\n",
              "\n",
              "    [theme=dark] .colab-df-convert:hover {\n",
              "      background-color: #434B5C;\n",
              "      box-shadow: 0px 1px 3px 1px rgba(0, 0, 0, 0.15);\n",
              "      filter: drop-shadow(0px 1px 2px rgba(0, 0, 0, 0.3));\n",
              "      fill: #FFFFFF;\n",
              "    }\n",
              "  </style>\n",
              "\n",
              "      <script>\n",
              "        const buttonEl =\n",
              "          document.querySelector('#df-f9270559-94e9-4afd-9b12-bbc92d6dcf22 button.colab-df-convert');\n",
              "        buttonEl.style.display =\n",
              "          google.colab.kernel.accessAllowed ? 'block' : 'none';\n",
              "\n",
              "        async function convertToInteractive(key) {\n",
              "          const element = document.querySelector('#df-f9270559-94e9-4afd-9b12-bbc92d6dcf22');\n",
              "          const dataTable =\n",
              "            await google.colab.kernel.invokeFunction('convertToInteractive',\n",
              "                                                     [key], {});\n",
              "          if (!dataTable) return;\n",
              "\n",
              "          const docLinkHtml = 'Like what you see? Visit the ' +\n",
              "            '<a target=\"_blank\" href=https://colab.research.google.com/notebooks/data_table.ipynb>data table notebook</a>'\n",
              "            + ' to learn more about interactive tables.';\n",
              "          element.innerHTML = '';\n",
              "          dataTable['output_type'] = 'display_data';\n",
              "          await google.colab.output.renderOutput(dataTable, element);\n",
              "          const docLink = document.createElement('div');\n",
              "          docLink.innerHTML = docLinkHtml;\n",
              "          element.appendChild(docLink);\n",
              "        }\n",
              "      </script>\n",
              "    </div>\n",
              "  </div>\n",
              "  "
            ]
          },
          "metadata": {},
          "execution_count": 296
        }
      ]
    },
    {
      "cell_type": "markdown",
      "source": [
        "# Question 1"
      ],
      "metadata": {
        "id": "e0ehx17Jje19"
      }
    },
    {
      "cell_type": "markdown",
      "source": [
        "Most frequent value for ocean_proximity."
      ],
      "metadata": {
        "id": "AxoypadRjiRz"
      }
    },
    {
      "cell_type": "code",
      "source": [
        "df.ocean_proximity.value_counts()"
      ],
      "metadata": {
        "colab": {
          "base_uri": "https://localhost:8080/"
        },
        "id": "L66bwNLojTr3",
        "outputId": "d52a8c4f-d2f6-4c53-bb8c-f78bcc66db61"
      },
      "execution_count": 297,
      "outputs": [
        {
          "output_type": "execute_result",
          "data": {
            "text/plain": [
              "<1H OCEAN     9136\n",
              "INLAND        6551\n",
              "NEAR OCEAN    2658\n",
              "NEAR BAY      2290\n",
              "ISLAND           5\n",
              "Name: ocean_proximity, dtype: int64"
            ]
          },
          "metadata": {},
          "execution_count": 297
        }
      ]
    },
    {
      "cell_type": "markdown",
      "source": [
        "Choses <1H OCEAN "
      ],
      "metadata": {
        "id": "T5cvRu_bycbo"
      }
    },
    {
      "cell_type": "markdown",
      "source": [
        "# Question 2"
      ],
      "metadata": {
        "id": "Q_ECM4AmsUzt"
      }
    },
    {
      "cell_type": "markdown",
      "source": [
        "Features with biggest correlation.\n"
      ],
      "metadata": {
        "id": "XLQdzms3vKax"
      }
    },
    {
      "cell_type": "code",
      "source": [
        "print(\"total_bedrooms and households =\",df.total_bedrooms.corr(df.households))"
      ],
      "metadata": {
        "colab": {
          "base_uri": "https://localhost:8080/"
        },
        "id": "PhzPZfQljVCP",
        "outputId": "ff0a3f88-3dc7-46b9-a63c-1bac6c7e242c"
      },
      "execution_count": 298,
      "outputs": [
        {
          "output_type": "stream",
          "name": "stdout",
          "text": [
            "total_bedrooms and households = 0.9665072400420388\n"
          ]
        }
      ]
    },
    {
      "cell_type": "code",
      "source": [
        "print(\"total_bedrooms and total_rooms =\",df.total_bedrooms.corr(df.total_rooms))"
      ],
      "metadata": {
        "colab": {
          "base_uri": "https://localhost:8080/"
        },
        "id": "dNXUWm4XxfdR",
        "outputId": "07a54179-6253-4198-91f5-5790888ca945"
      },
      "execution_count": 299,
      "outputs": [
        {
          "output_type": "stream",
          "name": "stdout",
          "text": [
            "total_bedrooms and total_rooms = 0.9201961721166267\n"
          ]
        }
      ]
    },
    {
      "cell_type": "code",
      "source": [
        "print(\"population and households =\",df.population.corr(df.households))"
      ],
      "metadata": {
        "colab": {
          "base_uri": "https://localhost:8080/"
        },
        "id": "hm4IY00qxa2u",
        "outputId": "58089f37-109a-4577-9254-509f387a620f"
      },
      "execution_count": 300,
      "outputs": [
        {
          "output_type": "stream",
          "name": "stdout",
          "text": [
            "population and households = 0.9072222660959613\n"
          ]
        }
      ]
    },
    {
      "cell_type": "code",
      "source": [
        "print(\"population_per_household and total_rooms =\",df.population_per_household.corr(df.total_rooms))"
      ],
      "metadata": {
        "colab": {
          "base_uri": "https://localhost:8080/"
        },
        "id": "xQH1rzL5xfnm",
        "outputId": "f6cb354c-eba0-4e54-d991-4bee084cd9c4"
      },
      "execution_count": 301,
      "outputs": [
        {
          "output_type": "stream",
          "name": "stdout",
          "text": [
            "population_per_household and total_rooms = -0.02458065899398802\n"
          ]
        }
      ]
    },
    {
      "cell_type": "markdown",
      "source": [
        "Choses total_bedrooms and households"
      ],
      "metadata": {
        "id": "GVV0XthzyhW3"
      }
    },
    {
      "cell_type": "markdown",
      "source": [
        "# Make median_house_value binary"
      ],
      "metadata": {
        "id": "NfzgFlHfysbg"
      }
    },
    {
      "cell_type": "code",
      "source": [
        "Avg = round(df.median_house_value.mean(),2)\n",
        "Avg"
      ],
      "metadata": {
        "colab": {
          "base_uri": "https://localhost:8080/"
        },
        "id": "YqJMBpwZohOD",
        "outputId": "747acc30-87ed-4b40-9fcb-32b3ad671622"
      },
      "execution_count": 302,
      "outputs": [
        {
          "output_type": "execute_result",
          "data": {
            "text/plain": [
              "206855.82"
            ]
          },
          "metadata": {},
          "execution_count": 302
        }
      ]
    },
    {
      "cell_type": "code",
      "source": [
        "df['above_average'] = (df['median_house_value'] > Avg).astype(int)"
      ],
      "metadata": {
        "id": "ce5VSzLhsCzk"
      },
      "execution_count": 303,
      "outputs": []
    },
    {
      "cell_type": "code",
      "source": [
        "df.above_average.head()"
      ],
      "metadata": {
        "colab": {
          "base_uri": "https://localhost:8080/"
        },
        "id": "oBecnrX1zR_P",
        "outputId": "a9945cad-c63b-4cff-ee59-48588c216e25"
      },
      "execution_count": 304,
      "outputs": [
        {
          "output_type": "execute_result",
          "data": {
            "text/plain": [
              "0    1\n",
              "1    1\n",
              "2    1\n",
              "3    1\n",
              "4    1\n",
              "Name: above_average, dtype: int64"
            ]
          },
          "metadata": {},
          "execution_count": 304
        }
      ]
    },
    {
      "cell_type": "code",
      "source": [
        "del df['median_house_value']"
      ],
      "metadata": {
        "id": "GVcrU6QQ057m"
      },
      "execution_count": 305,
      "outputs": []
    },
    {
      "cell_type": "markdown",
      "source": [
        "# Split the data"
      ],
      "metadata": {
        "id": "hlL2O98Tz3Ny"
      }
    },
    {
      "cell_type": "code",
      "source": [
        "df_full_train , df_test = train_test_split(df , test_size = 0.2 , random_state= 42)\n",
        "df_train , df_val = train_test_split(df_full_train , test_size = 0.25 , random_state= 42)\n",
        "len(df_full_train), len(df_val), len(df_test)"
      ],
      "metadata": {
        "colab": {
          "base_uri": "https://localhost:8080/"
        },
        "id": "QOsKQOwuzS1R",
        "outputId": "49cb3f73-2e53-4ac8-953d-8f6b4f61f2c8"
      },
      "execution_count": 306,
      "outputs": [
        {
          "output_type": "execute_result",
          "data": {
            "text/plain": [
              "(16512, 4128, 4128)"
            ]
          },
          "metadata": {},
          "execution_count": 306
        }
      ]
    },
    {
      "cell_type": "code",
      "source": [
        "df_train.head()"
      ],
      "metadata": {
        "colab": {
          "base_uri": "https://localhost:8080/",
          "height": 270
        },
        "id": "Ey6jTfKQ0fQD",
        "outputId": "59a7b6f3-31c3-498a-95ab-937778d57018"
      },
      "execution_count": 307,
      "outputs": [
        {
          "output_type": "execute_result",
          "data": {
            "text/plain": [
              "       latitude  longitude  housing_median_age  total_rooms  total_bedrooms  \\\n",
              "17244     34.43    -119.67                39.0       1467.0           381.0   \n",
              "8817      33.74    -118.32                24.0       6097.0           794.0   \n",
              "19686     39.13    -121.62                41.0       1317.0           309.0   \n",
              "3545      34.24    -118.63                 9.0       4759.0           924.0   \n",
              "17019     37.52    -122.30                38.0       2769.0           387.0   \n",
              "\n",
              "       population  households  median_income ocean_proximity  \\\n",
              "17244      1404.0       374.0         2.3681       <1H OCEAN   \n",
              "8817       2248.0       806.0        10.1357      NEAR OCEAN   \n",
              "19686       856.0       337.0         1.6719          INLAND   \n",
              "3545       1884.0       915.0         4.8333       <1H OCEAN   \n",
              "17019       994.0       395.0         5.5902      NEAR OCEAN   \n",
              "\n",
              "       rooms_per_household  bedrooms_per_room  population_per_household  \\\n",
              "17244             3.922460           0.259714                  3.754011   \n",
              "8817              7.564516           0.130228                  2.789082   \n",
              "19686             3.908012           0.234624                  2.540059   \n",
              "3545              5.201093           0.194158                  2.059016   \n",
              "17019             7.010127           0.139762                  2.516456   \n",
              "\n",
              "       above_average  \n",
              "17244              1  \n",
              "8817               1  \n",
              "19686              0  \n",
              "3545               1  \n",
              "17019              1  "
            ],
            "text/html": [
              "\n",
              "  <div id=\"df-2c122c87-4b31-41ed-9199-526951aec452\">\n",
              "    <div class=\"colab-df-container\">\n",
              "      <div>\n",
              "<style scoped>\n",
              "    .dataframe tbody tr th:only-of-type {\n",
              "        vertical-align: middle;\n",
              "    }\n",
              "\n",
              "    .dataframe tbody tr th {\n",
              "        vertical-align: top;\n",
              "    }\n",
              "\n",
              "    .dataframe thead th {\n",
              "        text-align: right;\n",
              "    }\n",
              "</style>\n",
              "<table border=\"1\" class=\"dataframe\">\n",
              "  <thead>\n",
              "    <tr style=\"text-align: right;\">\n",
              "      <th></th>\n",
              "      <th>latitude</th>\n",
              "      <th>longitude</th>\n",
              "      <th>housing_median_age</th>\n",
              "      <th>total_rooms</th>\n",
              "      <th>total_bedrooms</th>\n",
              "      <th>population</th>\n",
              "      <th>households</th>\n",
              "      <th>median_income</th>\n",
              "      <th>ocean_proximity</th>\n",
              "      <th>rooms_per_household</th>\n",
              "      <th>bedrooms_per_room</th>\n",
              "      <th>population_per_household</th>\n",
              "      <th>above_average</th>\n",
              "    </tr>\n",
              "  </thead>\n",
              "  <tbody>\n",
              "    <tr>\n",
              "      <th>17244</th>\n",
              "      <td>34.43</td>\n",
              "      <td>-119.67</td>\n",
              "      <td>39.0</td>\n",
              "      <td>1467.0</td>\n",
              "      <td>381.0</td>\n",
              "      <td>1404.0</td>\n",
              "      <td>374.0</td>\n",
              "      <td>2.3681</td>\n",
              "      <td>&lt;1H OCEAN</td>\n",
              "      <td>3.922460</td>\n",
              "      <td>0.259714</td>\n",
              "      <td>3.754011</td>\n",
              "      <td>1</td>\n",
              "    </tr>\n",
              "    <tr>\n",
              "      <th>8817</th>\n",
              "      <td>33.74</td>\n",
              "      <td>-118.32</td>\n",
              "      <td>24.0</td>\n",
              "      <td>6097.0</td>\n",
              "      <td>794.0</td>\n",
              "      <td>2248.0</td>\n",
              "      <td>806.0</td>\n",
              "      <td>10.1357</td>\n",
              "      <td>NEAR OCEAN</td>\n",
              "      <td>7.564516</td>\n",
              "      <td>0.130228</td>\n",
              "      <td>2.789082</td>\n",
              "      <td>1</td>\n",
              "    </tr>\n",
              "    <tr>\n",
              "      <th>19686</th>\n",
              "      <td>39.13</td>\n",
              "      <td>-121.62</td>\n",
              "      <td>41.0</td>\n",
              "      <td>1317.0</td>\n",
              "      <td>309.0</td>\n",
              "      <td>856.0</td>\n",
              "      <td>337.0</td>\n",
              "      <td>1.6719</td>\n",
              "      <td>INLAND</td>\n",
              "      <td>3.908012</td>\n",
              "      <td>0.234624</td>\n",
              "      <td>2.540059</td>\n",
              "      <td>0</td>\n",
              "    </tr>\n",
              "    <tr>\n",
              "      <th>3545</th>\n",
              "      <td>34.24</td>\n",
              "      <td>-118.63</td>\n",
              "      <td>9.0</td>\n",
              "      <td>4759.0</td>\n",
              "      <td>924.0</td>\n",
              "      <td>1884.0</td>\n",
              "      <td>915.0</td>\n",
              "      <td>4.8333</td>\n",
              "      <td>&lt;1H OCEAN</td>\n",
              "      <td>5.201093</td>\n",
              "      <td>0.194158</td>\n",
              "      <td>2.059016</td>\n",
              "      <td>1</td>\n",
              "    </tr>\n",
              "    <tr>\n",
              "      <th>17019</th>\n",
              "      <td>37.52</td>\n",
              "      <td>-122.30</td>\n",
              "      <td>38.0</td>\n",
              "      <td>2769.0</td>\n",
              "      <td>387.0</td>\n",
              "      <td>994.0</td>\n",
              "      <td>395.0</td>\n",
              "      <td>5.5902</td>\n",
              "      <td>NEAR OCEAN</td>\n",
              "      <td>7.010127</td>\n",
              "      <td>0.139762</td>\n",
              "      <td>2.516456</td>\n",
              "      <td>1</td>\n",
              "    </tr>\n",
              "  </tbody>\n",
              "</table>\n",
              "</div>\n",
              "      <button class=\"colab-df-convert\" onclick=\"convertToInteractive('df-2c122c87-4b31-41ed-9199-526951aec452')\"\n",
              "              title=\"Convert this dataframe to an interactive table.\"\n",
              "              style=\"display:none;\">\n",
              "        \n",
              "  <svg xmlns=\"http://www.w3.org/2000/svg\" height=\"24px\"viewBox=\"0 0 24 24\"\n",
              "       width=\"24px\">\n",
              "    <path d=\"M0 0h24v24H0V0z\" fill=\"none\"/>\n",
              "    <path d=\"M18.56 5.44l.94 2.06.94-2.06 2.06-.94-2.06-.94-.94-2.06-.94 2.06-2.06.94zm-11 1L8.5 8.5l.94-2.06 2.06-.94-2.06-.94L8.5 2.5l-.94 2.06-2.06.94zm10 10l.94 2.06.94-2.06 2.06-.94-2.06-.94-.94-2.06-.94 2.06-2.06.94z\"/><path d=\"M17.41 7.96l-1.37-1.37c-.4-.4-.92-.59-1.43-.59-.52 0-1.04.2-1.43.59L10.3 9.45l-7.72 7.72c-.78.78-.78 2.05 0 2.83L4 21.41c.39.39.9.59 1.41.59.51 0 1.02-.2 1.41-.59l7.78-7.78 2.81-2.81c.8-.78.8-2.07 0-2.86zM5.41 20L4 18.59l7.72-7.72 1.47 1.35L5.41 20z\"/>\n",
              "  </svg>\n",
              "      </button>\n",
              "      \n",
              "  <style>\n",
              "    .colab-df-container {\n",
              "      display:flex;\n",
              "      flex-wrap:wrap;\n",
              "      gap: 12px;\n",
              "    }\n",
              "\n",
              "    .colab-df-convert {\n",
              "      background-color: #E8F0FE;\n",
              "      border: none;\n",
              "      border-radius: 50%;\n",
              "      cursor: pointer;\n",
              "      display: none;\n",
              "      fill: #1967D2;\n",
              "      height: 32px;\n",
              "      padding: 0 0 0 0;\n",
              "      width: 32px;\n",
              "    }\n",
              "\n",
              "    .colab-df-convert:hover {\n",
              "      background-color: #E2EBFA;\n",
              "      box-shadow: 0px 1px 2px rgba(60, 64, 67, 0.3), 0px 1px 3px 1px rgba(60, 64, 67, 0.15);\n",
              "      fill: #174EA6;\n",
              "    }\n",
              "\n",
              "    [theme=dark] .colab-df-convert {\n",
              "      background-color: #3B4455;\n",
              "      fill: #D2E3FC;\n",
              "    }\n",
              "\n",
              "    [theme=dark] .colab-df-convert:hover {\n",
              "      background-color: #434B5C;\n",
              "      box-shadow: 0px 1px 3px 1px rgba(0, 0, 0, 0.15);\n",
              "      filter: drop-shadow(0px 1px 2px rgba(0, 0, 0, 0.3));\n",
              "      fill: #FFFFFF;\n",
              "    }\n",
              "  </style>\n",
              "\n",
              "      <script>\n",
              "        const buttonEl =\n",
              "          document.querySelector('#df-2c122c87-4b31-41ed-9199-526951aec452 button.colab-df-convert');\n",
              "        buttonEl.style.display =\n",
              "          google.colab.kernel.accessAllowed ? 'block' : 'none';\n",
              "\n",
              "        async function convertToInteractive(key) {\n",
              "          const element = document.querySelector('#df-2c122c87-4b31-41ed-9199-526951aec452');\n",
              "          const dataTable =\n",
              "            await google.colab.kernel.invokeFunction('convertToInteractive',\n",
              "                                                     [key], {});\n",
              "          if (!dataTable) return;\n",
              "\n",
              "          const docLinkHtml = 'Like what you see? Visit the ' +\n",
              "            '<a target=\"_blank\" href=https://colab.research.google.com/notebooks/data_table.ipynb>data table notebook</a>'\n",
              "            + ' to learn more about interactive tables.';\n",
              "          element.innerHTML = '';\n",
              "          dataTable['output_type'] = 'display_data';\n",
              "          await google.colab.output.renderOutput(dataTable, element);\n",
              "          const docLink = document.createElement('div');\n",
              "          docLink.innerHTML = docLinkHtml;\n",
              "          element.appendChild(docLink);\n",
              "        }\n",
              "      </script>\n",
              "    </div>\n",
              "  </div>\n",
              "  "
            ]
          },
          "metadata": {},
          "execution_count": 307
        }
      ]
    },
    {
      "cell_type": "code",
      "source": [
        "df_train = df_train.reset_index(drop=True)\n",
        "df_val = df_val.reset_index(drop=True)\n",
        "df_test = df_test.reset_index(drop=True)"
      ],
      "metadata": {
        "id": "8Q0rdsMb0PbZ"
      },
      "execution_count": 308,
      "outputs": []
    },
    {
      "cell_type": "code",
      "source": [],
      "metadata": {
        "id": "rOstTD2V0v2t"
      },
      "execution_count": 308,
      "outputs": []
    },
    {
      "cell_type": "code",
      "source": [
        "df_train.head()"
      ],
      "metadata": {
        "colab": {
          "base_uri": "https://localhost:8080/",
          "height": 270
        },
        "id": "XP_TlV6I0bGJ",
        "outputId": "9ce0437b-506c-455b-b3de-9fb66d90ee93"
      },
      "execution_count": 309,
      "outputs": [
        {
          "output_type": "execute_result",
          "data": {
            "text/plain": [
              "   latitude  longitude  housing_median_age  total_rooms  total_bedrooms  \\\n",
              "0     34.43    -119.67                39.0       1467.0           381.0   \n",
              "1     33.74    -118.32                24.0       6097.0           794.0   \n",
              "2     39.13    -121.62                41.0       1317.0           309.0   \n",
              "3     34.24    -118.63                 9.0       4759.0           924.0   \n",
              "4     37.52    -122.30                38.0       2769.0           387.0   \n",
              "\n",
              "   population  households  median_income ocean_proximity  rooms_per_household  \\\n",
              "0      1404.0       374.0         2.3681       <1H OCEAN             3.922460   \n",
              "1      2248.0       806.0        10.1357      NEAR OCEAN             7.564516   \n",
              "2       856.0       337.0         1.6719          INLAND             3.908012   \n",
              "3      1884.0       915.0         4.8333       <1H OCEAN             5.201093   \n",
              "4       994.0       395.0         5.5902      NEAR OCEAN             7.010127   \n",
              "\n",
              "   bedrooms_per_room  population_per_household  above_average  \n",
              "0           0.259714                  3.754011              1  \n",
              "1           0.130228                  2.789082              1  \n",
              "2           0.234624                  2.540059              0  \n",
              "3           0.194158                  2.059016              1  \n",
              "4           0.139762                  2.516456              1  "
            ],
            "text/html": [
              "\n",
              "  <div id=\"df-b679dc7f-0fb1-47c7-8978-3edb695e59bd\">\n",
              "    <div class=\"colab-df-container\">\n",
              "      <div>\n",
              "<style scoped>\n",
              "    .dataframe tbody tr th:only-of-type {\n",
              "        vertical-align: middle;\n",
              "    }\n",
              "\n",
              "    .dataframe tbody tr th {\n",
              "        vertical-align: top;\n",
              "    }\n",
              "\n",
              "    .dataframe thead th {\n",
              "        text-align: right;\n",
              "    }\n",
              "</style>\n",
              "<table border=\"1\" class=\"dataframe\">\n",
              "  <thead>\n",
              "    <tr style=\"text-align: right;\">\n",
              "      <th></th>\n",
              "      <th>latitude</th>\n",
              "      <th>longitude</th>\n",
              "      <th>housing_median_age</th>\n",
              "      <th>total_rooms</th>\n",
              "      <th>total_bedrooms</th>\n",
              "      <th>population</th>\n",
              "      <th>households</th>\n",
              "      <th>median_income</th>\n",
              "      <th>ocean_proximity</th>\n",
              "      <th>rooms_per_household</th>\n",
              "      <th>bedrooms_per_room</th>\n",
              "      <th>population_per_household</th>\n",
              "      <th>above_average</th>\n",
              "    </tr>\n",
              "  </thead>\n",
              "  <tbody>\n",
              "    <tr>\n",
              "      <th>0</th>\n",
              "      <td>34.43</td>\n",
              "      <td>-119.67</td>\n",
              "      <td>39.0</td>\n",
              "      <td>1467.0</td>\n",
              "      <td>381.0</td>\n",
              "      <td>1404.0</td>\n",
              "      <td>374.0</td>\n",
              "      <td>2.3681</td>\n",
              "      <td>&lt;1H OCEAN</td>\n",
              "      <td>3.922460</td>\n",
              "      <td>0.259714</td>\n",
              "      <td>3.754011</td>\n",
              "      <td>1</td>\n",
              "    </tr>\n",
              "    <tr>\n",
              "      <th>1</th>\n",
              "      <td>33.74</td>\n",
              "      <td>-118.32</td>\n",
              "      <td>24.0</td>\n",
              "      <td>6097.0</td>\n",
              "      <td>794.0</td>\n",
              "      <td>2248.0</td>\n",
              "      <td>806.0</td>\n",
              "      <td>10.1357</td>\n",
              "      <td>NEAR OCEAN</td>\n",
              "      <td>7.564516</td>\n",
              "      <td>0.130228</td>\n",
              "      <td>2.789082</td>\n",
              "      <td>1</td>\n",
              "    </tr>\n",
              "    <tr>\n",
              "      <th>2</th>\n",
              "      <td>39.13</td>\n",
              "      <td>-121.62</td>\n",
              "      <td>41.0</td>\n",
              "      <td>1317.0</td>\n",
              "      <td>309.0</td>\n",
              "      <td>856.0</td>\n",
              "      <td>337.0</td>\n",
              "      <td>1.6719</td>\n",
              "      <td>INLAND</td>\n",
              "      <td>3.908012</td>\n",
              "      <td>0.234624</td>\n",
              "      <td>2.540059</td>\n",
              "      <td>0</td>\n",
              "    </tr>\n",
              "    <tr>\n",
              "      <th>3</th>\n",
              "      <td>34.24</td>\n",
              "      <td>-118.63</td>\n",
              "      <td>9.0</td>\n",
              "      <td>4759.0</td>\n",
              "      <td>924.0</td>\n",
              "      <td>1884.0</td>\n",
              "      <td>915.0</td>\n",
              "      <td>4.8333</td>\n",
              "      <td>&lt;1H OCEAN</td>\n",
              "      <td>5.201093</td>\n",
              "      <td>0.194158</td>\n",
              "      <td>2.059016</td>\n",
              "      <td>1</td>\n",
              "    </tr>\n",
              "    <tr>\n",
              "      <th>4</th>\n",
              "      <td>37.52</td>\n",
              "      <td>-122.30</td>\n",
              "      <td>38.0</td>\n",
              "      <td>2769.0</td>\n",
              "      <td>387.0</td>\n",
              "      <td>994.0</td>\n",
              "      <td>395.0</td>\n",
              "      <td>5.5902</td>\n",
              "      <td>NEAR OCEAN</td>\n",
              "      <td>7.010127</td>\n",
              "      <td>0.139762</td>\n",
              "      <td>2.516456</td>\n",
              "      <td>1</td>\n",
              "    </tr>\n",
              "  </tbody>\n",
              "</table>\n",
              "</div>\n",
              "      <button class=\"colab-df-convert\" onclick=\"convertToInteractive('df-b679dc7f-0fb1-47c7-8978-3edb695e59bd')\"\n",
              "              title=\"Convert this dataframe to an interactive table.\"\n",
              "              style=\"display:none;\">\n",
              "        \n",
              "  <svg xmlns=\"http://www.w3.org/2000/svg\" height=\"24px\"viewBox=\"0 0 24 24\"\n",
              "       width=\"24px\">\n",
              "    <path d=\"M0 0h24v24H0V0z\" fill=\"none\"/>\n",
              "    <path d=\"M18.56 5.44l.94 2.06.94-2.06 2.06-.94-2.06-.94-.94-2.06-.94 2.06-2.06.94zm-11 1L8.5 8.5l.94-2.06 2.06-.94-2.06-.94L8.5 2.5l-.94 2.06-2.06.94zm10 10l.94 2.06.94-2.06 2.06-.94-2.06-.94-.94-2.06-.94 2.06-2.06.94z\"/><path d=\"M17.41 7.96l-1.37-1.37c-.4-.4-.92-.59-1.43-.59-.52 0-1.04.2-1.43.59L10.3 9.45l-7.72 7.72c-.78.78-.78 2.05 0 2.83L4 21.41c.39.39.9.59 1.41.59.51 0 1.02-.2 1.41-.59l7.78-7.78 2.81-2.81c.8-.78.8-2.07 0-2.86zM5.41 20L4 18.59l7.72-7.72 1.47 1.35L5.41 20z\"/>\n",
              "  </svg>\n",
              "      </button>\n",
              "      \n",
              "  <style>\n",
              "    .colab-df-container {\n",
              "      display:flex;\n",
              "      flex-wrap:wrap;\n",
              "      gap: 12px;\n",
              "    }\n",
              "\n",
              "    .colab-df-convert {\n",
              "      background-color: #E8F0FE;\n",
              "      border: none;\n",
              "      border-radius: 50%;\n",
              "      cursor: pointer;\n",
              "      display: none;\n",
              "      fill: #1967D2;\n",
              "      height: 32px;\n",
              "      padding: 0 0 0 0;\n",
              "      width: 32px;\n",
              "    }\n",
              "\n",
              "    .colab-df-convert:hover {\n",
              "      background-color: #E2EBFA;\n",
              "      box-shadow: 0px 1px 2px rgba(60, 64, 67, 0.3), 0px 1px 3px 1px rgba(60, 64, 67, 0.15);\n",
              "      fill: #174EA6;\n",
              "    }\n",
              "\n",
              "    [theme=dark] .colab-df-convert {\n",
              "      background-color: #3B4455;\n",
              "      fill: #D2E3FC;\n",
              "    }\n",
              "\n",
              "    [theme=dark] .colab-df-convert:hover {\n",
              "      background-color: #434B5C;\n",
              "      box-shadow: 0px 1px 3px 1px rgba(0, 0, 0, 0.15);\n",
              "      filter: drop-shadow(0px 1px 2px rgba(0, 0, 0, 0.3));\n",
              "      fill: #FFFFFF;\n",
              "    }\n",
              "  </style>\n",
              "\n",
              "      <script>\n",
              "        const buttonEl =\n",
              "          document.querySelector('#df-b679dc7f-0fb1-47c7-8978-3edb695e59bd button.colab-df-convert');\n",
              "        buttonEl.style.display =\n",
              "          google.colab.kernel.accessAllowed ? 'block' : 'none';\n",
              "\n",
              "        async function convertToInteractive(key) {\n",
              "          const element = document.querySelector('#df-b679dc7f-0fb1-47c7-8978-3edb695e59bd');\n",
              "          const dataTable =\n",
              "            await google.colab.kernel.invokeFunction('convertToInteractive',\n",
              "                                                     [key], {});\n",
              "          if (!dataTable) return;\n",
              "\n",
              "          const docLinkHtml = 'Like what you see? Visit the ' +\n",
              "            '<a target=\"_blank\" href=https://colab.research.google.com/notebooks/data_table.ipynb>data table notebook</a>'\n",
              "            + ' to learn more about interactive tables.';\n",
              "          element.innerHTML = '';\n",
              "          dataTable['output_type'] = 'display_data';\n",
              "          await google.colab.output.renderOutput(dataTable, element);\n",
              "          const docLink = document.createElement('div');\n",
              "          docLink.innerHTML = docLinkHtml;\n",
              "          element.appendChild(docLink);\n",
              "        }\n",
              "      </script>\n",
              "    </div>\n",
              "  </div>\n",
              "  "
            ]
          },
          "metadata": {},
          "execution_count": 309
        }
      ]
    },
    {
      "cell_type": "code",
      "source": [
        "y_train = df_train.above_average.values\n",
        "y_val = df_val.above_average.values\n",
        "y_test = df_test.above_average.values"
      ],
      "metadata": {
        "id": "9pK1HtQh8Zax"
      },
      "execution_count": 310,
      "outputs": []
    },
    {
      "cell_type": "markdown",
      "source": [
        "# Question 3"
      ],
      "metadata": {
        "id": "UstGfqWb1JdI"
      }
    },
    {
      "cell_type": "code",
      "source": [
        "round(mutual_info_score(df_train.ocean_proximity,df_train.above_average),2)"
      ],
      "metadata": {
        "colab": {
          "base_uri": "https://localhost:8080/"
        },
        "id": "oIgvagPK1LbF",
        "outputId": "1a8d0cc0-2b04-46f7-c78f-54fbd5ed1c9e"
      },
      "execution_count": 311,
      "outputs": [
        {
          "output_type": "execute_result",
          "data": {
            "text/plain": [
              "0.1"
            ]
          },
          "metadata": {},
          "execution_count": 311
        }
      ]
    },
    {
      "cell_type": "markdown",
      "source": [
        "# Question 4"
      ],
      "metadata": {
        "id": "GE7DNcl-6ufs"
      }
    },
    {
      "cell_type": "code",
      "source": [
        "train_dicts = df_train.drop(columns= 'above_average').to_dict(orient = 'records')\n",
        "dv = DictVectorizer(sparse= False)\n",
        "X_train = dv.fit_transform(train_dicts)\n",
        "model = LogisticRegression(solver=\"liblinear\", C=1.0, max_iter=1000, random_state=42)\n",
        "model.fit(X_train,y_train)\n",
        "val_dicts = df_val.to_dict(orient = 'records')\n",
        "X_val = dv.transform(val_dicts)\n",
        "y_val_pred = model.predict(X_val)\n",
        "(y_val_pred == y_val).mean().round(2)"
      ],
      "metadata": {
        "colab": {
          "base_uri": "https://localhost:8080/"
        },
        "id": "ASl-GA_i6uCR",
        "outputId": "94b381ec-1692-4ef3-e7e3-928990bfe31f"
      },
      "execution_count": 312,
      "outputs": [
        {
          "output_type": "execute_result",
          "data": {
            "text/plain": [
              "0.84"
            ]
          },
          "metadata": {},
          "execution_count": 312
        }
      ]
    },
    {
      "cell_type": "markdown",
      "source": [
        "# Question 5"
      ],
      "metadata": {
        "id": "UhG136UM9-HI"
      }
    },
    {
      "cell_type": "code",
      "source": [
        "feature = ['total_rooms','total_bedrooms','population','households']"
      ],
      "metadata": {
        "id": "71uFT30o99fh"
      },
      "execution_count": 313,
      "outputs": []
    },
    {
      "cell_type": "code",
      "source": [
        "train_dicts = df_train[feature].to_dict(orient = 'records')\n",
        "dv = DictVectorizer(sparse= False)\n",
        "X_train = dv.fit_transform(train_dicts)\n",
        "model = LogisticRegression(solver=\"liblinear\", C=1.0, max_iter=1000, random_state=42)\n",
        "model.fit(X_train,y_train)\n",
        "val_dicts = df_val.to_dict(orient = 'records')\n",
        "X_val = dv.transform(val_dicts)\n",
        "y_val_pred = model.predict(X_val)\n",
        "(y_val_pred == y_val).mean().round(2)"
      ],
      "metadata": {
        "colab": {
          "base_uri": "https://localhost:8080/"
        },
        "id": "4na3htyJ-PCc",
        "outputId": "c7ee7509-7cd3-4c41-e5f2-5efa681d5cef"
      },
      "execution_count": 314,
      "outputs": [
        {
          "output_type": "execute_result",
          "data": {
            "text/plain": [
              "0.71"
            ]
          },
          "metadata": {},
          "execution_count": 314
        }
      ]
    },
    {
      "cell_type": "code",
      "source": [
        "train_dicts = df_train[feature].drop(columns = 'total_rooms').to_dict(orient = 'records')\n",
        "dv = DictVectorizer(sparse= False)\n",
        "X_train = dv.fit_transform(train_dicts)\n",
        "model = LogisticRegression(solver=\"liblinear\", C=1.0, max_iter=1000, random_state=42)\n",
        "model.fit(X_train,y_train)\n",
        "val_dicts = df_val.to_dict(orient = 'records')\n",
        "X_val = dv.transform(val_dicts)\n",
        "y_val_pred = model.predict(X_val)\n",
        "print(\"Acc =\",(y_val_pred == y_val).mean().round(2))\n",
        "print(\"diff =\",round(0.71-(y_val_pred == y_val).mean(),2))"
      ],
      "metadata": {
        "colab": {
          "base_uri": "https://localhost:8080/"
        },
        "id": "oP8hz1OB-ZyB",
        "outputId": "8dc158e1-6437-4104-821d-c235c4a2f8ee"
      },
      "execution_count": 315,
      "outputs": [
        {
          "output_type": "stream",
          "name": "stdout",
          "text": [
            "Acc = 0.63\n",
            "diff = 0.08\n"
          ]
        }
      ]
    },
    {
      "cell_type": "code",
      "source": [
        "train_dicts = df_train[feature].drop(columns = 'total_bedrooms').to_dict(orient = 'records')\n",
        "dv = DictVectorizer(sparse= False)\n",
        "X_train = dv.fit_transform(train_dicts)\n",
        "model = LogisticRegression(solver=\"liblinear\", C=1.0, max_iter=1000, random_state=42)\n",
        "model.fit(X_train,y_train)\n",
        "val_dicts = df_val.to_dict(orient = 'records')\n",
        "X_val = dv.transform(val_dicts)\n",
        "y_val_pred = model.predict(X_val)\n",
        "print(\"Acc =\",(y_val_pred == y_val).mean().round(2))\n",
        "print(\"diff =\",round(0.71-(y_val_pred == y_val).mean(),2))"
      ],
      "metadata": {
        "colab": {
          "base_uri": "https://localhost:8080/"
        },
        "id": "GpLGc0AC-aRF",
        "outputId": "db29a0fe-1841-4dbb-8905-ad10315fa2a0"
      },
      "execution_count": 316,
      "outputs": [
        {
          "output_type": "stream",
          "name": "stdout",
          "text": [
            "Acc = 0.66\n",
            "diff = 0.05\n"
          ]
        }
      ]
    },
    {
      "cell_type": "code",
      "source": [
        "train_dicts = df_train[feature].drop(columns = 'population').to_dict(orient = 'records')\n",
        "dv = DictVectorizer(sparse= False)\n",
        "X_train = dv.fit_transform(train_dicts)\n",
        "model = LogisticRegression(solver=\"liblinear\", C=1.0, max_iter=1000, random_state=42)\n",
        "model.fit(X_train,y_train)\n",
        "val_dicts = df_val.to_dict(orient = 'records')\n",
        "X_val = dv.transform(val_dicts)\n",
        "y_val_pred = model.predict(X_val)\n",
        "print(\"Acc =\",(y_val_pred == y_val).mean().round(2))\n",
        "print(\"diff =\",round(0.71-(y_val_pred == y_val).mean(),2))"
      ],
      "metadata": {
        "colab": {
          "base_uri": "https://localhost:8080/"
        },
        "id": "HjFdi1b--ahY",
        "outputId": "00ce066f-c548-413a-f180-16c8758af38e"
      },
      "execution_count": 317,
      "outputs": [
        {
          "output_type": "stream",
          "name": "stdout",
          "text": [
            "Acc = 0.66\n",
            "diff = 0.05\n"
          ]
        }
      ]
    },
    {
      "cell_type": "code",
      "source": [
        "train_dicts = df_train[feature].drop(columns = 'households').to_dict(orient = 'records')\n",
        "dv = DictVectorizer(sparse= False)\n",
        "X_train = dv.fit_transform(train_dicts)\n",
        "model = LogisticRegression(solver=\"liblinear\", C=1.0, max_iter=1000, random_state=42)\n",
        "model.fit(X_train,y_train)\n",
        "val_dicts = df_val.to_dict(orient = 'records')\n",
        "X_val = dv.transform(val_dicts)\n",
        "y_val_pred = model.predict(X_val)\n",
        "print(\"Acc =\",(y_val_pred == y_val).mean().round(2))\n",
        "print(\"diff =\",round(0.71-(y_val_pred == y_val).mean(),2))"
      ],
      "metadata": {
        "colab": {
          "base_uri": "https://localhost:8080/"
        },
        "id": "WZ4DRQ1Y-aq4",
        "outputId": "63cb3fd2-130c-4240-f840-a872ed070be6"
      },
      "execution_count": 318,
      "outputs": [
        {
          "output_type": "stream",
          "name": "stdout",
          "text": [
            "Acc = 0.67\n",
            "diff = 0.04\n"
          ]
        }
      ]
    },
    {
      "cell_type": "markdown",
      "source": [
        "# Question 6"
      ],
      "metadata": {
        "id": "P5U7O4xT_r99"
      }
    },
    {
      "cell_type": "code",
      "source": [
        "df = df_ref.copy()"
      ],
      "metadata": {
        "id": "Bw1euQ6f_tXD"
      },
      "execution_count": 319,
      "outputs": []
    },
    {
      "cell_type": "code",
      "source": [
        "df.median_house_value = np.log(df.median_house_value)"
      ],
      "metadata": {
        "id": "WOdnUpE7AlQe"
      },
      "execution_count": 320,
      "outputs": []
    },
    {
      "cell_type": "code",
      "source": [
        "df_full_train , df_test = train_test_split(df , test_size = 0.2 , random_state= 42)\n",
        "df_train , df_val = train_test_split(df_full_train , test_size = 0.25 , random_state= 42)"
      ],
      "metadata": {
        "id": "Lwv929RpAoFW"
      },
      "execution_count": 321,
      "outputs": []
    },
    {
      "cell_type": "code",
      "source": [
        "df_train = df_train.reset_index(drop = True)\n",
        "df_val = df_val.reset_index(drop = True)\n",
        "df_test = df_test.reset_index(drop = True)"
      ],
      "metadata": {
        "id": "4i4d7qL1Aqp1"
      },
      "execution_count": 322,
      "outputs": []
    },
    {
      "cell_type": "code",
      "source": [
        "y_train = df_train.median_house_value.values\n",
        "y_val = df_val.median_house_value.values\n",
        "y_test = df_test.median_house_value.values"
      ],
      "metadata": {
        "id": "b7DX0UXEA2xp"
      },
      "execution_count": 323,
      "outputs": []
    },
    {
      "cell_type": "code",
      "source": [
        "train_dicts = df_train.drop(columns= 'median_house_value').to_dict(orient = 'records')\n",
        "dv = DictVectorizer(sparse= False)\n",
        "X_train = dv.fit_transform(train_dicts)\n",
        "val_dicts = df_val.to_dict(orient = 'records')\n",
        "X_val = dv.transform(val_dicts)"
      ],
      "metadata": {
        "id": "qmbNtwgQBCGk"
      },
      "execution_count": 324,
      "outputs": []
    },
    {
      "cell_type": "code",
      "source": [
        "alpha = [0, 0.01, 0.1, 1, 10]"
      ],
      "metadata": {
        "id": "Lc7eLwfaBPDi"
      },
      "execution_count": 331,
      "outputs": []
    },
    {
      "cell_type": "code",
      "source": [
        "for a in alpha:\n",
        "    \n",
        "    model = Ridge(alpha=a, solver=\"sag\", random_state=42)\n",
        "    model.fit(X_train,y_train)\n",
        "    \n",
        "    y_val_pred = model.predict(X_val)\n",
        "    rmse = np.sqrt(mean_squared_error(y_val,y_val_pred))\n",
        "    print(\"alpha =\",a,\"RMSE =\", round(rmse,3))"
      ],
      "metadata": {
        "colab": {
          "base_uri": "https://localhost:8080/"
        },
        "id": "9pv1f2twBDn7",
        "outputId": "285c771f-f120-4623-86e6-0b60acfbbeb6"
      },
      "execution_count": 336,
      "outputs": [
        {
          "output_type": "stream",
          "name": "stdout",
          "text": [
            "alpha = 0 RMSE = 0.525\n",
            "alpha = 0.01 RMSE = 0.525\n",
            "alpha = 0.1 RMSE = 0.525\n",
            "alpha = 1 RMSE = 0.525\n",
            "alpha = 10 RMSE = 0.525\n"
          ]
        }
      ]
    }
  ]
}